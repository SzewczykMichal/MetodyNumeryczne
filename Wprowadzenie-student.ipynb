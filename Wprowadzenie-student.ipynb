{
 "cells": [
  {
   "cell_type": "markdown",
   "id": "afraid-physiology",
   "metadata": {},
   "source": [
    "# Wprowadzenie do obliczeń w Pythonie"
   ]
  },
  {
   "cell_type": "markdown",
   "id": "unique-attack",
   "metadata": {},
   "source": [
    "## Ćwiczenia\n",
    "Ćwiczenia należy wykonywać w środowisku Python 3. Instrukcję będą miały formę notatników Jupyter Notebook, ale same polecenia można wykonywać w dowolnym IDE (osoby znające Matlaba mogą skorzystać z edytora [Spyder](https://www.spyder-ide.org), który posiada układ podobny do produktu firmy Mathworks).\n",
    "### Python vs Matlab\n",
    "W kontekście obliczeń numerycznych oba środowiska są do siebie podobne. W 90% przypadków nazwy funkcji, kolejność argumentów i sposób rozwiązania danego problemu będą takie same w obu środowiskach. Istnieje jednak kilka różnic, o których należy pamiętać:\n",
    "* Matlab jest narzędziem stworzonym specjalnie do obliczeń, Python to język programowania ogólnego przeznaczenia.\n",
    "* W Pythonie do wykonywania obliczeń i wizualizacji wykorzystuje się biblioteki takie jak NumPy, SciPy, SymPy, Matplotlib, Seaborn itd. W Matlabie większość funkcjonalności jest dostępna \"od ręki\" (chociaż istnieją też płatne dodatki).\n",
    "* W Matlabie tablice/macierze są indeksowane od **1** (tak jak np. w języku Pascal), w Pythonie pierwszy element kolekcji znajduje się na pozycji **0** (tak jak w większości języków programowania ogólnego przeznaczenia, np. C, C++, Java, Kotlin, Swift).\n",
    "* Sposób mnożenia macierzy (temat zostanie poruszony na jednych z kolejnych zajęć).\n",
    "Ciekawy zestaw przykładów pokazujący różnice pomiędzy Pythonem i Matlabem (a także Julią) znajdziecie Państwo na [tutaj](https://cheatsheets.quantecon.org)."
   ]
  },
  {
   "cell_type": "markdown",
   "id": "saved-choice",
   "metadata": {},
   "source": [
    "# Obliczenia numeryczne w Pythonie"
   ]
  },
  {
   "cell_type": "markdown",
   "id": "local-notice",
   "metadata": {},
   "source": [
    "Podstawowym pakietem do obliczeń naukowych w Pythonie jest *numpy*. Zwyczajowo importuje się go w następujący sposób:"
   ]
  },
  {
   "cell_type": "code",
   "execution_count": 14,
   "id": "occasional-firewall",
   "metadata": {},
   "outputs": [],
   "source": [
    "import numpy as np"
   ]
  },
  {
   "cell_type": "markdown",
   "id": "illegal-catalog",
   "metadata": {},
   "source": [
    "**Uwaga.** Niektóre funkcje (np. *sqrt*) występują w więcej niż jednym pakiecie (np. *sqrt* znajduje się zarówno w *math*, jak i w *numpy*). W takich przypadkach zazwyczaj lepiej jest zastosować implementację z *numpy* (o ile jest dostępna)."
   ]
  },
  {
   "cell_type": "code",
   "execution_count": 15,
   "id": "global-explorer",
   "metadata": {},
   "outputs": [
    {
     "name": "stdout",
     "output_type": "stream",
     "text": [
      "1.4142135623730951\n",
      "1.4142135623730951\n"
     ]
    }
   ],
   "source": [
    "import math\n",
    "\n",
    "print(math.sqrt(2))\n",
    "print((np.sqrt(2)))"
   ]
  },
  {
   "cell_type": "markdown",
   "id": "coated-rabbit",
   "metadata": {},
   "source": [
    "## Typy proste"
   ]
  },
  {
   "cell_type": "markdown",
   "id": "italic-aside",
   "metadata": {},
   "source": [
    "***Zadanie 1.***   \n",
    "Oblicz wartości następujących formuł:\n",
    "  \n",
    "$k = 1240\\sqrt{7}$  \n",
    "$m = 2048$  \n",
    "$l = 2j$  \n",
    "$d = k+2m$  \n",
    "$c = d+l$  \n",
    "  \n",
    "Po wykonaniu obliczeń sprawdź typy danych utworzonych zmiennych (funkcja *type*)"
   ]
  },
  {
   "cell_type": "code",
   "execution_count": 16,
   "id": "healthy-uganda",
   "metadata": {},
   "outputs": [
    {
     "name": "stdout",
     "output_type": "stream",
     "text": [
      "3280.7316257200923\n",
      "2048\n",
      "4\n",
      "7376.731625720093\n",
      "7380.731625720093\n"
     ]
    }
   ],
   "source": [
    "import math\n",
    "j = 2\n",
    "k = 1240 * math.sqrt(7)\n",
    "m = 2048\n",
    "l = 2 * j\n",
    "d = k + 2 * m\n",
    "c = d + l\n",
    "\n",
    "\n",
    "print(k)\n",
    "print(m)\n",
    "print(l)\n",
    "print(d)\n",
    "print(c)"
   ]
  },
  {
   "cell_type": "code",
   "execution_count": 17,
   "id": "infinite-galaxy",
   "metadata": {},
   "outputs": [
    {
     "name": "stdout",
     "output_type": "stream",
     "text": [
      "<class 'int'>\n",
      "<class 'float'>\n",
      "<class 'int'>\n",
      "<class 'int'>\n",
      "<class 'float'>\n",
      "<class 'float'>\n"
     ]
    }
   ],
   "source": [
    "print(type(j))\n",
    "print(type(k))\n",
    "print(type(m))\n",
    "print(type(l))\n",
    "print(type(d))\n",
    "print(type(c))"
   ]
  },
  {
   "cell_type": "markdown",
   "id": "super-shannon",
   "metadata": {},
   "source": [
    "## Formatowanie wyjścia\n",
    "\n",
    "W pracy z liczbami warto wykorzystać formatowanie stringów.\n"
   ]
  },
  {
   "cell_type": "code",
   "execution_count": 2,
   "id": "intelligent-czech",
   "metadata": {},
   "outputs": [
    {
     "data": {
      "text/plain": [
       "\"a = 2, typ: <class 'int'>\""
      ]
     },
     "execution_count": 2,
     "metadata": {},
     "output_type": "execute_result"
    }
   ],
   "source": [
    "a = 2\n",
    "'a = {a}, typ: {t}'.format(a = a, t = type(a))"
   ]
  },
  {
   "cell_type": "markdown",
   "id": "portuguese-cotton",
   "metadata": {},
   "source": [
    "W Pythonie 3.6+ dostępny jest również nowy format zwany *f-String*, który pozwala umieszczać wyrażenia do obliczenia bezpośrednio w łańcuchu."
   ]
  },
  {
   "cell_type": "code",
   "execution_count": null,
   "id": "stunning-timing",
   "metadata": {},
   "outputs": [],
   "source": [
    "f'a = {a}, typ: {type(a)}, 2 + 2 = {2+2}'"
   ]
  },
  {
   "cell_type": "markdown",
   "id": "deluxe-garage",
   "metadata": {},
   "source": [
    "Możliwe jest również sterowanie formatowaniem wartości [liczbowych](https://docs.python.org/3/tutorial/inputoutput.html):"
   ]
  },
  {
   "cell_type": "code",
   "execution_count": null,
   "id": "accurate-florida",
   "metadata": {},
   "outputs": [],
   "source": [
    "# Dla typu float\n",
    "print(f'a = {a}')\n",
    "print(f'a = {a:.3f}')\n",
    "print(f'a = {a:.50f}')\n",
    "\n",
    "#Dla typu int\n",
    "print()\n",
    "print(f'b = {b}')\n",
    "print(f'b = {b:10d}')\n",
    "print(f'b = {b:20d}')"
   ]
  },
  {
   "cell_type": "markdown",
   "id": "international-turning",
   "metadata": {},
   "source": [
    "## Typy tablicowe"
   ]
  },
  {
   "cell_type": "markdown",
   "id": "realistic-nebraska",
   "metadata": {},
   "source": [
    "W bibliotece standardowej Pythona brakuje typu tablicowego (jest jedynie lista), który przydaje się podczas pracy z danymi liczbowymi. Lukę tę wypełnia typ tablicowy z *numpy*. "
   ]
  },
  {
   "cell_type": "code",
   "execution_count": null,
   "id": "terminal-participant",
   "metadata": {},
   "outputs": [],
   "source": [
    "tab = np.array([1,2,3])\n",
    "tab2 = np.array(([1.0,2],[3,4])) # argument w postaci krotki!\n",
    "print(f'{tab}, typ: {type(tab)}')\n",
    "print(f'{tab2}, typ: {type(tab2)}')"
   ]
  },
  {
   "cell_type": "markdown",
   "id": "stuck-committee",
   "metadata": {},
   "source": [
    "Jak widać tablice w *numpy* są obiektami typu *ndarray*. Jest to homogeniczny typ tablicowy, czyli taki, który pozwala przechowywać jedynie dane tego samego typu (w każdej tablicy wszystkie elementy są jednego typu, tak jak np. w C). Dane heterogeniczne można przechowywać np. w strukturze *DataFrame* z biblioteki *Pandas*.\n",
    "Obiekt typu *ndarray* posiada kilka interesujących atrybutów:\n",
    "* *shape* — kształt tablicy, czyli krotka zawierająca liczbę elementów dla każdego wymiaru (osi) tablicy. Wymiary można również sprawdzić za pomocą *np.shape()*.\n",
    "* *size* — sumaryczna liczba elementów.\n",
    "* *ndim* — liczba wymiarów (osi).\n",
    "* *nbytes* — liczba bajtów zajmowana przez obiekt.\n",
    "* *dtype* — typ danych przechowywanych w tablicy. Można go jawnie określić podczas tworzenia tablicy (parametr dtype)\n",
    " "
   ]
  },
  {
   "cell_type": "code",
   "execution_count": null,
   "id": "smooth-pennsylvania",
   "metadata": {},
   "outputs": [],
   "source": [
    "def printDetails(arr):\n",
    "    print(f'Tablica {arr}')\n",
    "    print(f'   shape = {arr.shape}')\n",
    "    print(f'   size = {arr.size}')\n",
    "    print(f'   ndim = {arr.ndim}')\n",
    "    print(f'   nbytes = {arr.nbytes}')\n",
    "    print(f'   dtype = {arr.dtype}')\n",
    "    print()"
   ]
  },
  {
   "cell_type": "markdown",
   "id": "fabulous-second",
   "metadata": {},
   "source": [
    "***Uwaga!*** W *numpy* dostępny jest też typ *matrix*. Jest on obecnie uznany za ,,przestarzały'' (ang. *deprecated*) i nie należy z niego korzystać (nawet w zastosowaniach numerycznych, co sugerowałaby jego nazwa)."
   ]
  },
  {
   "cell_type": "code",
   "execution_count": null,
   "id": "constitutional-witch",
   "metadata": {},
   "outputs": [],
   "source": [
    "printDetails(tab) # Uwaga na shape!\n",
    "printDetails(tab2)\n",
    "\n"
   ]
  },
  {
   "cell_type": "markdown",
   "id": "floating-plenty",
   "metadata": {},
   "source": [
    "#### Zmiana kształtu\n",
    "Do zmiany kształtu tablic służy funkcja *reshape()*. Nowe wymiary muszą odpowiadać liczbie elementów w tablicy!"
   ]
  },
  {
   "cell_type": "code",
   "execution_count": null,
   "id": "special-contractor",
   "metadata": {},
   "outputs": [],
   "source": [
    "tab3 = tab.reshape(1,3)\n",
    "printDetails(tab3)\n",
    "\n",
    "tab4 = tab.reshape(10,3)\n",
    "\n"
   ]
  },
  {
   "cell_type": "markdown",
   "id": "documented-amendment",
   "metadata": {},
   "source": [
    "#### Tworzenie tablic"
   ]
  },
  {
   "cell_type": "markdown",
   "id": "confident-purpose",
   "metadata": {},
   "source": [
    "Poza metodą *array*, tablice można utworzyć również z pomocą wielu innych [funkcji](https://numpy.org/doc/stable/reference/routines.array-creation.html#routines-array-creation) m.in.:\n",
    "* *np.zeros()* — tworzy tablicę o zadanym rozmiarze wypełnioną zerami.\n",
    "* *np.ones()* — tworzy tablicę o zadanym rozmiarze wypełnioną jedynkami.\n",
    "* *np.identity()* — tworzy macierz identycznościową o zadanym rozmiarze.\n",
    "* *np.eye()* — tworzy tablicę o zadanym rozmiarze z jedynkami na przekątnej.\n",
    "* **np.linspace()** — tworzy tablicę z równomiernie rozmieszczonymi wartościami znajdującymi się pomiędzy określoną początkową i końcową wartością z użyciem określonej liczby elementów.\n",
    "* *np.fromfile(), np.fromstring(), np.loadtxt()* — tworzy tablice na podstawie danych z plików lub stringów."
   ]
  },
  {
   "cell_type": "code",
   "execution_count": null,
   "id": "extreme-slovakia",
   "metadata": {},
   "outputs": [],
   "source": [
    "zeros = np.zeros((2,2))\n",
    "print(zeros)"
   ]
  },
  {
   "cell_type": "code",
   "execution_count": null,
   "id": "encouraging-empty",
   "metadata": {},
   "outputs": [],
   "source": [
    "ones = np.ones([5,10])\n",
    "print(ones)"
   ]
  },
  {
   "cell_type": "code",
   "execution_count": null,
   "id": "educational-machinery",
   "metadata": {},
   "outputs": [],
   "source": [
    "np.identity(10)"
   ]
  },
  {
   "cell_type": "code",
   "execution_count": null,
   "id": "harmful-resource",
   "metadata": {},
   "outputs": [],
   "source": [
    "np.eye(10)"
   ]
  },
  {
   "cell_type": "code",
   "execution_count": null,
   "id": "beautiful-subscription",
   "metadata": {},
   "outputs": [],
   "source": [
    "np.linspace(1,10,5) # Tablica 5 wartości rozmieszczonych równomiernie w przedziale [1,10]"
   ]
  },
  {
   "cell_type": "markdown",
   "id": "norman-trunk",
   "metadata": {},
   "source": [
    "## Operacje na macierzach"
   ]
  },
  {
   "cell_type": "markdown",
   "id": "lonely-central",
   "metadata": {},
   "source": [
    "### Indeksowanie"
   ]
  },
  {
   "cell_type": "code",
   "execution_count": null,
   "id": "alert-mobile",
   "metadata": {},
   "outputs": [
    {
     "name": "stdout",
     "output_type": "stream",
     "text": [
      "[[1 2 3]\n",
      " [4 5 6]\n",
      " [7 8 9]]\n"
     ]
    }
   ],
   "source": [
    "A = np.array(([1,2,3],[4,5,6],[7,8,9]))\n",
    "print(A)"
   ]
  },
  {
   "cell_type": "code",
   "execution_count": null,
   "id": "progressive-bermuda",
   "metadata": {},
   "outputs": [
    {
     "data": {
      "text/plain": [
       "5"
      ]
     },
     "execution_count": 14,
     "metadata": {},
     "output_type": "execute_result"
    }
   ],
   "source": [
    "A[1,1]"
   ]
  },
  {
   "cell_type": "code",
   "execution_count": null,
   "id": "smooth-juice",
   "metadata": {},
   "outputs": [],
   "source": [
    "A[0,0]"
   ]
  },
  {
   "cell_type": "code",
   "execution_count": null,
   "id": "civilian-punch",
   "metadata": {},
   "outputs": [],
   "source": [
    "A[0:2,0:1]"
   ]
  },
  {
   "cell_type": "code",
   "execution_count": null,
   "id": "becoming-encounter",
   "metadata": {},
   "outputs": [],
   "source": [
    "A[-1,-1]"
   ]
  },
  {
   "cell_type": "code",
   "execution_count": null,
   "id": "peripheral-creek",
   "metadata": {},
   "outputs": [],
   "source": [
    "A[A>5]"
   ]
  },
  {
   "cell_type": "code",
   "execution_count": null,
   "id": "super-phenomenon",
   "metadata": {},
   "outputs": [],
   "source": [
    "A[A%2==0]"
   ]
  },
  {
   "cell_type": "code",
   "execution_count": null,
   "id": "mineral-thumb",
   "metadata": {},
   "outputs": [],
   "source": [
    "B = A\n",
    "B[B>5] = 37 # Indeksowanie wraz z przypisaniem nowej wartości\n",
    "B"
   ]
  },
  {
   "cell_type": "markdown",
   "id": "static-services",
   "metadata": {},
   "source": [
    "### Operacje arytmetyczne"
   ]
  },
  {
   "cell_type": "code",
   "execution_count": null,
   "id": "circular-oriental",
   "metadata": {},
   "outputs": [],
   "source": [
    "A = np.array(([1,2,3],[4,5,6],[7,8,9],[10,11,12]))\n",
    "B = np.array(([-1,-2,-3],[-4,-5,-6],[-7,-8,-9],[-10,-11,-12]))\n",
    "C = np.array(([20,21,22,23],[24,25,26,27],[28,29,30,31]))"
   ]
  },
  {
   "cell_type": "code",
   "execution_count": null,
   "id": "crude-endorsement",
   "metadata": {},
   "outputs": [
    {
     "name": "stdout",
     "output_type": "stream",
     "text": [
      "[[ 1  2  3]\n",
      " [ 4  5  6]\n",
      " [ 7  8  9]\n",
      " [10 11 12]]\n",
      "[[ -1  -2  -3]\n",
      " [ -4  -5  -6]\n",
      " [ -7  -8  -9]\n",
      " [-10 -11 -12]]\n",
      "[[20 21 22 23]\n",
      " [24 25 26 27]\n",
      " [28 29 30 31]]\n"
     ]
    }
   ],
   "source": [
    "print(A)\n",
    "print(B)\n",
    "print(C)"
   ]
  },
  {
   "cell_type": "code",
   "execution_count": null,
   "id": "accessory-choir",
   "metadata": {},
   "outputs": [],
   "source": [
    "A+B"
   ]
  },
  {
   "cell_type": "code",
   "execution_count": null,
   "id": "tracked-concentration",
   "metadata": {},
   "outputs": [],
   "source": [
    "A-B"
   ]
  },
  {
   "cell_type": "code",
   "execution_count": null,
   "id": "given-gazette",
   "metadata": {},
   "outputs": [],
   "source": [
    "B-A"
   ]
  },
  {
   "cell_type": "code",
   "execution_count": null,
   "id": "vocational-denial",
   "metadata": {},
   "outputs": [],
   "source": [
    "A*B # Mnożenie odpowiadających sobie elementów!!"
   ]
  },
  {
   "cell_type": "code",
   "execution_count": null,
   "id": "cheap-immune",
   "metadata": {},
   "outputs": [],
   "source": [
    "A/B # Dzielenie odpowiadających sobie elementów!!"
   ]
  },
  {
   "cell_type": "code",
   "execution_count": null,
   "id": "demanding-image",
   "metadata": {},
   "outputs": [],
   "source": [
    "A*C # Niepoprawne, wymiary nie są zgodne"
   ]
  },
  {
   "cell_type": "code",
   "execution_count": null,
   "id": "medium-raise",
   "metadata": {},
   "outputs": [],
   "source": [
    "np.dot(A,C) # Mnożenie macierzowe macierzy"
   ]
  },
  {
   "cell_type": "code",
   "execution_count": null,
   "id": "harmful-programmer",
   "metadata": {},
   "outputs": [],
   "source": [
    "A @ C # Inny zapis, Python 3.5+"
   ]
  },
  {
   "cell_type": "code",
   "execution_count": null,
   "id": "gorgeous-module",
   "metadata": {},
   "outputs": [],
   "source": [
    "A.T # Macierz transponowana"
   ]
  },
  {
   "cell_type": "code",
   "execution_count": null,
   "id": "competitive-inspection",
   "metadata": {},
   "outputs": [
    {
     "data": {
      "text/plain": [
       "array([[ 1,  4,  7, 10],\n",
       "       [ 2,  5,  8, 11],\n",
       "       [ 3,  6,  9, 12]])"
      ]
     },
     "execution_count": 17,
     "metadata": {},
     "output_type": "execute_result"
    }
   ],
   "source": [
    "np.transpose(A)"
   ]
  },
  {
   "cell_type": "markdown",
   "id": "revolutionary-church",
   "metadata": {},
   "source": [
    "***Zadanie 2.***  \n",
    "Zadeklaruj macierz \n",
    "$\\mathbf{M} =\\left[ \\begin{matrix}\n",
    "\\sqrt{2} & 1 & -\\sqrt{2}\\\\\n",
    "0 & 1 & 1\\\\\n",
    "-\\sqrt{2} & \\sqrt{2} & 1\n",
    "\\end{matrix}\\right]\n",
    "$    \n",
    "Wyznacz numerycznie jej macierz odwrotną (*np.linalg.inv*) i transponowaną. Oblicz wyznacznik tej macierzy (*np.linalg.det()*). Wypisz otrzymane wyniki. "
   ]
  },
  {
   "cell_type": "code",
   "execution_count": null,
   "id": "alpine-breakdown",
   "metadata": {},
   "outputs": [
    {
     "name": "stdout",
     "output_type": "stream",
     "text": [
      "Macierz M:\n",
      "[[ 1.41421356  1.         -1.41421356]\n",
      " [ 0.          1.          1.        ]\n",
      " [-1.41421356  1.41421356  1.        ]]\n",
      "Odwrotna:\n",
      "[[ 0.10355339  0.75       -0.60355339]\n",
      " [ 0.35355339  0.14644661  0.35355339]\n",
      " [-0.35355339  0.85355339 -0.35355339]]\n",
      "Transponowana:\n",
      "[[ 1.41421356  0.         -1.41421356]\n",
      " [ 1.          1.          1.41421356]\n",
      " [-1.41421356  1.          1.        ]]\n",
      "Wyznacznik: -4.0\n"
     ]
    }
   ],
   "source": [
    "import numpy as np\n",
    "\n",
    "M = np.array([\n",
    "    [np.sqrt(2), 1, -np.sqrt(2)],\n",
    "    [0, 1, 1],\n",
    "    [-np.sqrt(2), np.sqrt(2), 1]\n",
    "])\n",
    "\n",
    "M_i = np.linalg.inv(M)\n",
    "\n",
    "M_t = np.transpose(M)\n",
    "\n",
    "det_M = np.linalg.det(M)\n",
    "\n",
    "print(\"Macierz M:\")\n",
    "print(M)\n",
    "print(\"Odwrotna:\")\n",
    "print(M_i)\n",
    "print(\"Transponowana:\")\n",
    "print(M_t)\n",
    "print(\"Wyznacznik:\", det_M)"
   ]
  },
  {
   "cell_type": "markdown",
   "id": "radio-terry",
   "metadata": {},
   "source": [
    "# Wizualizacja danych"
   ]
  },
  {
   "cell_type": "markdown",
   "id": "numeric-premiere",
   "metadata": {},
   "source": [
    "Do wizualizacji wyników, tworzenia wykresów itd. wykorzystamy bibliotekę *matplotlib*, a konkretniej jej stanowe i obiektowe API zwane *pyplot*. Zwyczajowo importu dokonuje się w następujący sposób:"
   ]
  },
  {
   "cell_type": "code",
   "execution_count": 6,
   "id": "leading-newark",
   "metadata": {},
   "outputs": [],
   "source": [
    "import matplotlib.pyplot as plt"
   ]
  },
  {
   "cell_type": "markdown",
   "id": "silver-partnership",
   "metadata": {},
   "source": [
    "Tworzenie wykresu rozpoczyna się od utworzenia \"okna\":"
   ]
  },
  {
   "cell_type": "code",
   "execution_count": null,
   "id": "mounted-dream",
   "metadata": {},
   "outputs": [
    {
     "data": {
      "text/plain": [
       "<Figure size 640x480 with 0 Axes>"
      ]
     },
     "metadata": {},
     "output_type": "display_data"
    }
   ],
   "source": [
    "fig = plt.figure()"
   ]
  },
  {
   "cell_type": "markdown",
   "id": "driven-restriction",
   "metadata": {},
   "source": [
    "Następnie można skorzystać z jednej z dostępnych metod wizualizacji. Do stworzenia wykresu potrzebne będą też dane. Funkcja *plt.plot()* pozwala wyświetlić dane przekazane w postaci tablic (np. tablic punktów X i Y)."
   ]
  },
  {
   "cell_type": "code",
   "execution_count": null,
   "id": "communist-contributor",
   "metadata": {},
   "outputs": [],
   "source": [
    "X = np.linspace(0,2*np.pi, 1000)\n",
    "Y = np.sin(X)"
   ]
  },
  {
   "cell_type": "code",
   "execution_count": null,
   "id": "further-energy",
   "metadata": {},
   "outputs": [
    {
     "data": {
      "text/plain": [
       "[<matplotlib.lines.Line2D at 0x1f47fe5e060>]"
      ]
     },
     "execution_count": 6,
     "metadata": {},
     "output_type": "execute_result"
    },
    {
     "data": {
      "image/png": "[encoded data removed]",
      "text/plain": [
       "<Figure size 640x480 with 1 Axes>"
      ]
     },
     "metadata": {},
     "output_type": "display_data"
    }
   ],
   "source": [
    "plt.plot(X,Y)"
   ]
  },
  {
   "cell_type": "markdown",
   "id": "romantic-alcohol",
   "metadata": {},
   "source": [
    "Wykresy można również personalizować."
   ]
  },
  {
   "cell_type": "code",
   "execution_count": null,
   "id": "composite-victory",
   "metadata": {},
   "outputs": [],
   "source": [
    "plt.plot(X,Y)\n",
    "plt.title('Wykres $sin(x)$')\n",
    "plt.xlim([0,2*np.pi])\n",
    "plt.xlabel('x')\n",
    "plt.ylabel('sin(x)')\n"
   ]
  },
  {
   "cell_type": "markdown",
   "id": "progressive-equivalent",
   "metadata": {},
   "source": [
    "Na jednym wykresie można pokazać kilka ,,obiektów''. Możliwe jest również dodanie siatki i legendy (treści ,,matematyczne'' wstawiamy między dolarami)."
   ]
  },
  {
   "cell_type": "code",
   "execution_count": null,
   "id": "optical-toolbox",
   "metadata": {},
   "outputs": [],
   "source": [
    "plt.figure(figsize=(14,10)) # Stworzenie ,,większego'' okna\n",
    "X = np.linspace(-10,10, 1000)\n",
    "\n",
    "plt.plot(X,X**2, label = '$x^2$') # W argumencie label umieszcza się nazwy krzywych do legendy\n",
    "plt.plot(X,X**3, label = '$x^3$')\n",
    "plt.plot(X,np.tan(X), label = '$tg(x)$')\n",
    "plt.xlim([-10,10])\n",
    "plt.ylim([-100,100])\n",
    "plt.xlabel('x')\n",
    "plt.grid() # Wyświetlanie siatki\n",
    "plt.legend() # Dodanie legendy\n",
    "plt.axhline(y=0, color='k') # Dodanie osi x = 0\n",
    "plt.axvline(x=0, color='k') # Dodanie osi y = 0"
   ]
  },
  {
   "cell_type": "markdown",
   "id": "lesbian-recognition",
   "metadata": {},
   "source": [
    "Dane na wykresie niekoniecznie muszą mieć formę krzywych"
   ]
  },
  {
   "cell_type": "code",
   "execution_count": 12,
   "id": "abroad-thought",
   "metadata": {},
   "outputs": [
    {
     "data": {
      "text/plain": [
       "Text(0, 0.5, 'sin(x)')"
      ]
     },
     "execution_count": 12,
     "metadata": {},
     "output_type": "execute_result"
    },
    {
     "data": {
      "image/png": "[encoded data removed]",
      "text/plain": [
       "<Figure size 640x480 with 1 Axes>"
      ]
     },
     "metadata": {},
     "output_type": "display_data"
    }
   ],
   "source": [
    "plt.figure()\n",
    "X = np.linspace(0,2*np.pi, 50)\n",
    "plt.plot(X,np.sin(X), '*')\n",
    "plt.title('Wykres $sin(x)$')\n",
    "plt.xlim([0,2*np.pi])\n",
    "plt.xlabel('x')\n",
    "plt.ylabel('sin(x)')\n"
   ]
  },
  {
   "cell_type": "code",
   "execution_count": 7,
   "id": "legislative-swiss",
   "metadata": {},
   "outputs": [
    {
     "data": {
      "text/plain": [
       "Text(0, 0.5, 'sin(x)')"
      ]
     },
     "execution_count": 7,
     "metadata": {},
     "output_type": "execute_result"
    },
    {
     "data": {
      "image/png": "[encoded data removed]",
      "text/plain": [
       "<Figure size 640x480 with 1 Axes>"
      ]
     },
     "metadata": {},
     "output_type": "display_data"
    }
   ],
   "source": [
    "plt.figure()\n",
    "X = np.linspace(0,2*np.pi, 50)\n",
    "plt.plot(X,np.sin(X), 'r+')\n",
    "plt.title('Wykres $sin(x)$')\n",
    "plt.xlim([0,2*np.pi])\n",
    "plt.xlabel('x')\n",
    "plt.ylabel('sin(x)')"
   ]
  },
  {
   "cell_type": "markdown",
   "id": "killing-ensemble",
   "metadata": {},
   "source": [
    "***Zadanie 3.***\n",
    "\n",
    "Zdefinuj funkcję \n",
    "$f(x) = x^3 - 5x + 7$\n",
    "i stwórz jej wykresy w przedziałach:\n",
    "* $x\\in<-1,1>$ \n",
    "* $x\\in<-10,20>$\n",
    "\n",
    "Spersonalizuj wykresy: dodaj tytuły, opisy osi etc."
   ]
  },
  {
   "cell_type": "code",
   "execution_count": 7,
   "id": "balanced-gazette",
   "metadata": {},
   "outputs": [
    {
     "data": {
      "image/png": "[encoded data removed]",
      "text/plain": [
       "<Figure size 1200x600 with 2 Axes>"
      ]
     },
     "metadata": {},
     "output_type": "display_data"
    }
   ],
   "source": [
    "def f(x):\n",
    "    return x**3 - 5*x + 7\n",
    "\n",
    "x1 = np.linspace(-1, 1, 400)\n",
    "y1 = f(x1)\n",
    "\n",
    "x2 = np.linspace(-10, 20, 1000)\n",
    "y2 = f(x2)\n",
    "\n",
    "plt.figure(figsize=(12, 6))\n",
    "\n",
    "# Wykres 1\n",
    "plt.subplot(1, 2, 1)\n",
    "plt.plot(x1, y1, 'r-', label='$f(x) = x^3 - 5x + 7$')\n",
    "plt.xlabel('x')\n",
    "plt.ylabel('f(x)')\n",
    "plt.grid(True)\n",
    "plt.legend()\n",
    "\n",
    "# Wykres 2\n",
    "plt.subplot(1, 2, 2)\n",
    "plt.plot(x2, y2, 'b-', label='$f(x) = x^3 - 5x + 7$')\n",
    "plt.xlabel('x')\n",
    "plt.ylabel('f(x)')\n",
    "plt.grid(True)\n",
    "plt.legend()\n",
    "\n",
    "plt.tight_layout()\n",
    "plt.show()\n",
    "\n",
    "\n",
    "\n",
    "\n",
    "\n"
   ]
  },
  {
   "cell_type": "markdown",
   "id": "c7370153",
   "metadata": {},
   "source": [
    "# Wizualizacja macierzy"
   ]
  },
  {
   "cell_type": "markdown",
   "id": "37c7cb34",
   "metadata": {},
   "source": [
    "W obliczeniach numerycznych często pojawia się potrzeba porównania zawartości dwóch macierzy lub wektorów. Jednym z prostych rozwiązań jest przedstawienie obu macierzy w postaci „graficznej”, w której kolory reprezentują wartości znajdujące się w macierzy."
   ]
  },
  {
   "cell_type": "code",
   "execution_count": 9,
   "id": "6eb7bdd3",
   "metadata": {},
   "outputs": [
    {
     "data": {
      "text/plain": [
       "Text(0.5, 1.0, 'Macierz B')"
      ]
     },
     "execution_count": 9,
     "metadata": {},
     "output_type": "execute_result"
    },
    {
     "data": {
      "image/png": "[encoded data removed]",
      "text/plain": [
       "<Figure size 640x480 with 2 Axes>"
      ]
     },
     "metadata": {},
     "output_type": "display_data"
    }
   ],
   "source": [
    "A = np.identity(5)\n",
    "B = np.diag([1,1,1,1,1])\n",
    "\n",
    "plt.subplot(1,2,1)\n",
    "plt.imshow(A)\n",
    "plt.title('Macierz A')\n",
    "\n",
    "plt.subplot(1,2,2)\n",
    "plt.imshow(B)\n",
    "plt.title('Macierz B')"
   ]
  },
  {
   "cell_type": "markdown",
   "id": "5c636dc0",
   "metadata": {},
   "source": [
    "Uwaga: kolorystykę można dostoswać za pomocą argumentu `cmap` (np. `cmap='gray'`)"
   ]
  },
  {
   "cell_type": "markdown",
   "id": "3e1e7c46",
   "metadata": {},
   "source": [
    "***Zadanie 4.***\n",
    "\n",
    "Zastanów się nad innymi sposobami porównywania macierzy. Jak można to zrobić, jak łatwo ocenić czy dwie macierze zawierają te same/podobne wartości?"
   ]
  },
  {
   "cell_type": "code",
   "execution_count": 11,
   "id": "c90d4565",
   "metadata": {},
   "outputs": [
    {
     "data": {
      "text/plain": [
       "True"
      ]
     },
     "execution_count": 11,
     "metadata": {},
     "output_type": "execute_result"
    }
   ],
   "source": [
    "import numpy as np\n",
    "np.array_equal(A,B)"
   ]
  },
  {
   "cell_type": "markdown",
   "id": "1e6c70b8",
   "metadata": {},
   "source": [
    "***Zadanie 5.***\n",
    "\n",
    "Stwórz kwadratową macierz wartości losowych o wymarach 10x10. Następnie przeprowadź jej rozklad QR za pomocą funkcji [`scipy.linalg.qr`](https://docs.scipy.org/doc/scipy/reference/generated/scipy.linalg.qr.html) (sprawdź, w dokumentacji jak działa ta funkcja oraz jakie wartości zwraca). W wyniku rozkładu otrzymasz dwie macierze `Q` i `R` (szczegóły na jednych z kolejnych zajęć). Następnie przypisz macierz Q do zmiennej i wyznacz jej **transpozycję** ($Q^T$) oraz **odwrotność** ($Q^{-1}$). Porównaj ze sobą te dwie macierz. Jaki wynik otrzymałeś i dlaczego? Powtórz obliczenia kilkukrotnie dla macierzy o różnych rozmiarach."
   ]
  },
  {
   "cell_type": "code",
   "execution_count": 12,
   "id": "b37cfb6f",
   "metadata": {},
   "outputs": [
    {
     "name": "stdout",
     "output_type": "stream",
     "text": [
      "Czy macierz Q jest równa swojej transpozycji? False\n",
      "Czy macierz Q jest równa swojej odwrotności? False\n"
     ]
    }
   ],
   "source": [
    "import numpy as np\n",
    "from scipy.linalg import qr\n",
    "\n",
    "# Rozmiar macierzy kwadratowej\n",
    "n = 10\n",
    "\n",
    "# Tworzenie macierzy losowych\n",
    "A = np.random.rand(n, n)\n",
    "\n",
    "# Rozkład QR\n",
    "Q, R = qr(A)\n",
    "\n",
    "# Wyznaczenie transpozycji i odwrotności macierzy Q\n",
    "Q_transpose = np.transpose(Q)\n",
    "Q_inverse = np.linalg.inv(Q)\n",
    "\n",
    "# Porównanie macierzy Q z jej transpozycją i odwrotnością\n",
    "are_equal_transpose = np.allclose(Q, Q_transpose)\n",
    "are_equal_inverse = np.allclose(Q, Q_inverse)\n",
    "\n",
    "print(\"Czy macierz Q jest równa swojej transpozycji?\", are_equal_transpose)\n",
    "print(\"Czy macierz Q jest równa swojej odwrotności?\", are_equal_inverse)"
   ]
  },
  {
   "cell_type": "code",
   "execution_count": null,
   "id": "e0a6656b",
   "metadata": {},
   "outputs": [],
   "source": []
  }
 ],
 "metadata": {
  "kernelspec": {
   "display_name": "Python 3 (ipykernel)",
   "language": "python",
   "name": "python3"
  },
  "language_info": {
   "codemirror_mode": {
    "name": "ipython",
    "version": 3
   },
   "file_extension": ".py",
   "mimetype": "text/x-python",
   "name": "python",
   "nbconvert_exporter": "python",
   "pygments_lexer": "ipython3",
   "version": "3.12.2"
  }
 },
 "nbformat": 4,
 "nbformat_minor": 5
}
